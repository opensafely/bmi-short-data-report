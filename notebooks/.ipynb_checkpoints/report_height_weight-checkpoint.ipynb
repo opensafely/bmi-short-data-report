{
 "cells": [
  {
   "cell_type": "code",
   "execution_count": 1,
   "metadata": {},
   "outputs": [],
   "source": [
    "import numpy as np \n",
    "import pandas as pd\n",
    "import seaborn as sns\n",
    "\n",
    "from matplotlib import pyplot as plt\n",
    "from lib import *\n",
    "\n",
    "pd.set_option('display.float_format', lambda x: '%.2f' % x)\n",
    "pd.set_option('display.max_rows', 500)\n",
    "pd.options.mode.chained_assignment = None "
   ]
  },
  {
   "cell_type": "code",
   "execution_count": 2,
   "metadata": {},
   "outputs": [],
   "source": [
    "input_path = '../output/data/input_processed.feather'\n",
    "\n",
    "definitions = ['weight','height']\n",
    "\n",
    "other_vars = []\n",
    "\n",
    "null = ['0',0,np.nan]\n",
    "\n",
    "dates = False\n",
    "date_min = '2015-03-01'\n",
    "date_max = '2022-03-01'\n",
    "time_delta = 'M'\n",
    "code_dict = {\n",
    "    'ethnicity': {1:'White', 2:'Mixed', 3:'Asian', 4:'Black', 5:'Other', np.nan: 'Unknown', 0: 'Unknown'},\n",
    "    'imd': {0: 'Unknown', 1: '1 Most deprived', 2: '2', 3: '3', 4: '4', 5: '5 Least deprived'}\n",
    "}\n",
    "\n",
    "demographic_covariates = ['age_band', 'sex', 'ethnicity', 'region', 'imd']\n",
    "clinical_covariates =  ['dementia', 'diabetes', 'hypertension', 'learning_disability']"
   ]
  },
  {
   "cell_type": "code",
   "execution_count": 3,
   "metadata": {},
   "outputs": [],
   "source": [
    "df_occ = import_clean(input_path, definitions, other_vars, demographic_covariates, \n",
    "                      clinical_covariates, null, date_min, date_max, \n",
    "                      time_delta, code_dict, dates)"
   ]
  },
  {
   "cell_type": "code",
   "execution_count": 4,
   "metadata": {},
   "outputs": [
    {
     "data": {
      "text/plain": [
       "Index                  80000\n",
       "patient_id             80000\n",
       "weight                 80000\n",
       "height                 80000\n",
       "age_band               10384\n",
       "sex                    10096\n",
       "ethnicity              80000\n",
       "region                 10384\n",
       "imd                    80000\n",
       "dementia               10000\n",
       "diabetes               10000\n",
       "hypertension           10000\n",
       "learning_disability    10000\n",
       "weight_filled          80000\n",
       "weight_missing         80000\n",
       "height_filled          80000\n",
       "height_missing         80000\n",
       "all_filled             80000\n",
       "all_missing            80000\n",
       "dtype: int64"
      ]
     },
     "execution_count": 4,
     "metadata": {},
     "output_type": "execute_result"
    }
   ],
   "source": [
    "df_occ.memory_usage()"
   ]
  },
  {
   "cell_type": "markdown",
   "metadata": {},
   "source": [
    "# Height"
   ]
  },
  {
   "cell_type": "code",
   "execution_count": 5,
   "metadata": {},
   "outputs": [],
   "source": [
    "# report_distribution(df_occ, ['height'], 1, group='')\n",
    "# for group in demographic_covariates:\n",
    "#     report_distribution(df_occ, ['height'], 1, group)"
   ]
  },
  {
   "cell_type": "code",
   "execution_count": 6,
   "metadata": {},
   "outputs": [],
   "source": [
    "# report_out_of_range(df_occ, ['height'], 0.5, 2.8, 1, [0,'0'], group='')\n",
    "# for group in demographic_covariates:\n",
    "#     report_out_of_range(df_occ, ['height'], 0.5, 2.8, 1, [0,'0'], group)"
   ]
  },
  {
   "cell_type": "markdown",
   "metadata": {},
   "source": [
    "# Weight"
   ]
  },
  {
   "cell_type": "code",
   "execution_count": 7,
   "metadata": {},
   "outputs": [],
   "source": [
    "# report_distribution(df_occ, ['weight'], 1, group='')\n",
    "# for group in demographic_covariates:\n",
    "#     report_distribution(df_occ, ['weight'], 1, group)"
   ]
  },
  {
   "cell_type": "code",
   "execution_count": 8,
   "metadata": {},
   "outputs": [],
   "source": [
    "# report_out_of_range(df_occ, ['weight'], 3, 500, 1, [0,'0'], group='')\n",
    "# for group in demographic_covariates:\n",
    "#     report_out_of_range(df_occ, ['weight'], 3, 500, 1, [0,'0'], group)"
   ]
  },
  {
   "cell_type": "code",
   "execution_count": null,
   "metadata": {},
   "outputs": [],
   "source": []
  }
 ],
 "metadata": {
  "kernelspec": {
   "display_name": "Python 3",
   "language": "python",
   "name": "python3"
  },
  "language_info": {
   "codemirror_mode": {
    "name": "ipython",
    "version": 3
   },
   "file_extension": ".py",
   "mimetype": "text/x-python",
   "name": "python",
   "nbconvert_exporter": "python",
   "pygments_lexer": "ipython3",
   "version": "3.8.10"
  }
 },
 "nbformat": 4,
 "nbformat_minor": 4
}
